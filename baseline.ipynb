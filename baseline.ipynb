{
 "cells": [
  {
   "cell_type": "code",
   "execution_count": 1,
   "metadata": {
    "_cell_guid": "b1076dfc-b9ad-4769-8c92-a6c4dae69d19",
    "_uuid": "8f2839f25d086af736a60e9eeb907d3b93b6e0e5",
    "execution": {
     "iopub.execute_input": "2024-08-20T02:57:44.369812Z",
     "iopub.status.busy": "2024-08-20T02:57:44.369055Z",
     "iopub.status.idle": "2024-08-20T02:58:11.289388Z",
     "shell.execute_reply": "2024-08-20T02:58:11.288558Z",
     "shell.execute_reply.started": "2024-08-20T02:57:44.369776Z"
    }
   },
   "outputs": [
    {
     "name": "stderr",
     "output_type": "stream",
     "text": [
      "2024-08-20 06:13:31.410021: I tensorflow/core/platform/cpu_feature_guard.cc:211] This TensorFlow binary is optimized to use available CPU instructions in performance-critical operations.\n",
      "To enable the following instructions: SSE3 SSE4.1 SSE4.2 AVX, in other operations, rebuild TensorFlow with the appropriate compiler flags.\n"
     ]
    },
    {
     "name": "stdout",
     "output_type": "stream",
     "text": [
      "Using TensorFlow backend\n"
     ]
    },
    {
     "name": "stderr",
     "output_type": "stream",
     "text": [
      "/usr/local/lib/python3.10/dist-packages/tqdm/auto.py:21: TqdmWarning: IProgress not found. Please update jupyter and ipywidgets. See https://ipywidgets.readthedocs.io/en/stable/user_install.html\n",
      "  from .autonotebook import tqdm as notebook_tqdm\n",
      "/tmp/ipykernel_677/1848604162.py:11: DtypeWarning: Columns (51,52) have mixed types. Specify dtype option on import or set low_memory=False.\n",
      "  df = pd.read_csv(train_file)\n"
     ]
    }
   ],
   "source": [
    "import tensorflow as tf\n",
    "import pathlib\n",
    "import os\n",
    "import matplotlib.pyplot as plt\n",
    "import pandas as pd\n",
    "import numpy as np\n",
    "import keras_cv\n",
    "import h5py\n",
    "\n",
    "train_file = \"isic-2024-challenge/train-metadata.csv\"\n",
    "df = pd.read_csv(train_file)"
   ]
  },
  {
   "cell_type": "code",
   "execution_count": 2,
   "metadata": {
    "execution": {
     "iopub.execute_input": "2024-08-20T03:07:18.335773Z",
     "iopub.status.busy": "2024-08-20T03:07:18.335130Z",
     "iopub.status.idle": "2024-08-20T03:07:18.787862Z",
     "shell.execute_reply": "2024-08-20T03:07:18.786443Z",
     "shell.execute_reply.started": "2024-08-20T03:07:18.335738Z"
    }
   },
   "outputs": [
    {
     "name": "stdout",
     "output_type": "stream",
     "text": [
      "393\n"
     ]
    }
   ],
   "source": [
    "df['isic_id'] = 'isic-2024-challenge/train-image/image/' + df['isic_id'] + '.jpg'\n",
    "\n",
    "df_m = df[df['target'] == 1]\n",
    "df_b = df[df['target'] == 0]\n",
    "\n",
    "print(len(df_m.index))\n",
    "\n",
    "df_b = df_b.sample(len(df_m.index))\n",
    "\n",
    "df_balanced = pd.concat([df_m, df_b], axis=0)\n",
    "\n",
    "#df_balanced['target'].value_counts().plot.pie()"
   ]
  },
  {
   "cell_type": "code",
   "execution_count": 3,
   "metadata": {
    "execution": {
     "iopub.execute_input": "2024-08-20T03:07:18.794863Z",
     "iopub.status.busy": "2024-08-20T03:07:18.794378Z",
     "iopub.status.idle": "2024-08-20T03:07:18.806466Z",
     "shell.execute_reply": "2024-08-20T03:07:18.805282Z",
     "shell.execute_reply.started": "2024-08-20T03:07:18.794821Z"
    }
   },
   "outputs": [],
   "source": [
    "train_df = df_balanced.sample(frac=0.8, random_state=42) \n",
    "  \n",
    "# Dropping all those indexes from the dataframe that exists in the train_set \n",
    "test_df = df_balanced.drop(train_df.index) \n"
   ]
  },
  {
   "cell_type": "code",
   "execution_count": 4,
   "metadata": {
    "execution": {
     "iopub.execute_input": "2024-08-20T03:07:19.609095Z",
     "iopub.status.busy": "2024-08-20T03:07:19.608693Z",
     "iopub.status.idle": "2024-08-20T03:07:19.616292Z",
     "shell.execute_reply": "2024-08-20T03:07:19.615286Z",
     "shell.execute_reply.started": "2024-08-20T03:07:19.609065Z"
    }
   },
   "outputs": [],
   "source": [
    "\n",
    "def process_data(dft):\n",
    "    img_filenames = dft['isic_id']\n",
    "    labels = dft['target']\n",
    "\n",
    "    ds = tf.data.Dataset.from_tensor_slices((img_filenames, labels))\n",
    "\n",
    "    def parse_image(filename, label):\n",
    "        print(filename)   \n",
    "        image = tf.io.read_file(filename)\n",
    "        image = tf.io.decode_jpeg(image)\n",
    "        img_shape = image.shape\n",
    "        print(\"Shape is: \", img_shape)\n",
    "        image = tf.image.convert_image_dtype(image, tf.float32)\n",
    "        image = tf.image.resize(image,\n",
    "                                [256,256],\n",
    "                                preserve_aspect_ratio=False,\n",
    "                                antialias=False,\n",
    "                                name=None\n",
    "                                )\n",
    "        return image, label\n",
    "    \n",
    "    ds = ds.map(parse_image)\n",
    "    \n",
    "    return ds\n"
   ]
  },
  {
   "cell_type": "code",
   "execution_count": 5,
   "metadata": {
    "execution": {
     "iopub.execute_input": "2024-08-20T03:07:20.333276Z",
     "iopub.status.busy": "2024-08-20T03:07:20.332587Z",
     "iopub.status.idle": "2024-08-20T03:07:21.026251Z",
     "shell.execute_reply": "2024-08-20T03:07:21.025274Z",
     "shell.execute_reply.started": "2024-08-20T03:07:20.333240Z"
    }
   },
   "outputs": [
    {
     "name": "stdout",
     "output_type": "stream",
     "text": [
      "Tensor(\"args_0:0\", shape=(), dtype=string)\n",
      "Shape is:  (None, None, None)\n",
      "Tensor(\"args_0:0\", shape=(), dtype=string)\n",
      "Shape is:  (None, None, None)\n"
     ]
    },
    {
     "name": "stderr",
     "output_type": "stream",
     "text": [
      "2024-08-20 06:13:38.687888: I external/local_xla/xla/stream_executor/cuda/cuda_executor.cc:998] successful NUMA node read from SysFS had negative value (-1), but there must be at least one NUMA node, so returning NUMA node zero. See more at https://github.com/torvalds/linux/blob/v6.0/Documentation/ABI/testing/sysfs-bus-pci#L344-L355\n",
      "2024-08-20 06:13:38.733531: I external/local_xla/xla/stream_executor/cuda/cuda_executor.cc:998] successful NUMA node read from SysFS had negative value (-1), but there must be at least one NUMA node, so returning NUMA node zero. See more at https://github.com/torvalds/linux/blob/v6.0/Documentation/ABI/testing/sysfs-bus-pci#L344-L355\n",
      "2024-08-20 06:13:38.734979: I external/local_xla/xla/stream_executor/cuda/cuda_executor.cc:998] successful NUMA node read from SysFS had negative value (-1), but there must be at least one NUMA node, so returning NUMA node zero. See more at https://github.com/torvalds/linux/blob/v6.0/Documentation/ABI/testing/sysfs-bus-pci#L344-L355\n",
      "2024-08-20 06:13:38.738299: I external/local_xla/xla/stream_executor/cuda/cuda_executor.cc:998] successful NUMA node read from SysFS had negative value (-1), but there must be at least one NUMA node, so returning NUMA node zero. See more at https://github.com/torvalds/linux/blob/v6.0/Documentation/ABI/testing/sysfs-bus-pci#L344-L355\n",
      "2024-08-20 06:13:38.739541: I external/local_xla/xla/stream_executor/cuda/cuda_executor.cc:998] successful NUMA node read from SysFS had negative value (-1), but there must be at least one NUMA node, so returning NUMA node zero. See more at https://github.com/torvalds/linux/blob/v6.0/Documentation/ABI/testing/sysfs-bus-pci#L344-L355\n",
      "2024-08-20 06:13:38.740728: I external/local_xla/xla/stream_executor/cuda/cuda_executor.cc:998] successful NUMA node read from SysFS had negative value (-1), but there must be at least one NUMA node, so returning NUMA node zero. See more at https://github.com/torvalds/linux/blob/v6.0/Documentation/ABI/testing/sysfs-bus-pci#L344-L355\n",
      "2024-08-20 06:13:38.878515: I external/local_xla/xla/stream_executor/cuda/cuda_executor.cc:998] successful NUMA node read from SysFS had negative value (-1), but there must be at least one NUMA node, so returning NUMA node zero. See more at https://github.com/torvalds/linux/blob/v6.0/Documentation/ABI/testing/sysfs-bus-pci#L344-L355\n",
      "2024-08-20 06:13:38.880140: I external/local_xla/xla/stream_executor/cuda/cuda_executor.cc:998] successful NUMA node read from SysFS had negative value (-1), but there must be at least one NUMA node, so returning NUMA node zero. See more at https://github.com/torvalds/linux/blob/v6.0/Documentation/ABI/testing/sysfs-bus-pci#L344-L355\n",
      "2024-08-20 06:13:38.881704: I external/local_xla/xla/stream_executor/cuda/cuda_executor.cc:998] successful NUMA node read from SysFS had negative value (-1), but there must be at least one NUMA node, so returning NUMA node zero. See more at https://github.com/torvalds/linux/blob/v6.0/Documentation/ABI/testing/sysfs-bus-pci#L344-L355\n",
      "2024-08-20 06:13:38.883507: I tensorflow/core/common_runtime/gpu/gpu_device.cc:1928] Created device /job:localhost/replica:0/task:0/device:GPU:0 with 20076 MB memory:  -> device: 0, name: NVIDIA GeForce RTX 3090, pci bus id: 0000:0b:00.0, compute capability: 8.6\n"
     ]
    }
   ],
   "source": [
    "ds_train = process_data(train_df)\n",
    "ds_val = process_data(test_df)\n",
    "\n",
    "image, label  = next(iter(ds_train))\n",
    "\n",
    "ds_train = ds_train.batch(32)\n",
    "ds_val = ds_val.batch(32)"
   ]
  },
  {
   "cell_type": "code",
   "execution_count": 6,
   "metadata": {
    "execution": {
     "iopub.execute_input": "2024-08-20T03:07:21.028564Z",
     "iopub.status.busy": "2024-08-20T03:07:21.028119Z",
     "iopub.status.idle": "2024-08-20T03:19:29.236483Z",
     "shell.execute_reply": "2024-08-20T03:19:29.235519Z",
     "shell.execute_reply.started": "2024-08-20T03:07:21.028528Z"
    }
   },
   "outputs": [
    {
     "name": "stderr",
     "output_type": "stream",
     "text": [
      "/usr/local/lib/python3.10/dist-packages/keras_cv/src/models/backbones/backbone.py:44: UserWarning: `Model.state_updates` will be removed in a future version. This property should not be used in TensorFlow 2.0, as `updates` are applied automatically.\n",
      "  return id(getattr(self, attr)) not in self._functional_layer_ids\n",
      "/usr/local/lib/python3.10/dist-packages/keras_cv/src/models/backbones/backbone.py:44: UserWarning: `layer.updates` will be removed in a future version. This property should not be used in TensorFlow 2.0, as `updates` are applied automatically.\n",
      "  return id(getattr(self, attr)) not in self._functional_layer_ids\n"
     ]
    },
    {
     "name": "stdout",
     "output_type": "stream",
     "text": [
      "Model: \"image_classifier\"\n",
      "_________________________________________________________________\n",
      " Layer (type)                Output Shape              Param #   \n",
      "=================================================================\n",
      " input_1 (InputLayer)        [(None, None, None, 3)]   0         \n",
      "                                                                 \n",
      " dense_net_backbone (DenseN  (None, None, None, 1920   18321984  \n",
      " etBackbone)                 )                                   \n",
      "                                                                 \n",
      " avg_pool (GlobalAveragePoo  (None, 1920)              0         \n",
      " ling2D)                                                         \n",
      "                                                                 \n",
      " predictions (Dense)         (None, 1)                 1921      \n",
      "                                                                 \n",
      "=================================================================\n",
      "Total params: 18323905 (69.90 MB)\n",
      "Trainable params: 18094849 (69.03 MB)\n",
      "Non-trainable params: 229056 (894.75 KB)\n",
      "_________________________________________________________________\n",
      "Epoch 1/10\n"
     ]
    },
    {
     "name": "stderr",
     "output_type": "stream",
     "text": [
      "2024-08-20 06:15:08.643482: I external/local_xla/xla/stream_executor/cuda/cuda_dnn.cc:465] Loaded cuDNN version 90201\n",
      "WARNING: All log messages before absl::InitializeLog() is called are written to STDERR\n",
      "I0000 00:00:1724134512.054788     822 service.cc:145] XLA service 0x7869948a99a0 initialized for platform CUDA (this does not guarantee that XLA will be used). Devices:\n",
      "I0000 00:00:1724134512.054815     822 service.cc:153]   StreamExecutor device (0): NVIDIA GeForce RTX 3090, Compute Capability 8.6\n",
      "2024-08-20 06:15:12.062284: I tensorflow/compiler/mlir/tensorflow/utils/dump_mlir_util.cc:268] disabling MLIR crash reproducer, set env var `MLIR_CRASH_REPRODUCER_DIRECTORY` to enable.\n",
      "I0000 00:00:1724134512.132311     822 device_compiler.h:188] Compiled cluster using XLA!  This line is logged at most once for the lifetime of the process.\n"
     ]
    },
    {
     "name": "stdout",
     "output_type": "stream",
     "text": [
      "20/20 [==============================] - 117s 1s/step - loss: 2.5358 - accuracy: 0.5024 - val_loss: 7.6634 - val_accuracy: 0.5032\n",
      "Epoch 2/10\n",
      "20/20 [==============================] - 4s 213ms/step - loss: 2.1985 - accuracy: 0.5119 - val_loss: 7.6634 - val_accuracy: 0.5032\n",
      "Epoch 3/10\n",
      "20/20 [==============================] - 4s 210ms/step - loss: 1.8259 - accuracy: 0.5135 - val_loss: 0.9327 - val_accuracy: 0.5032\n",
      "Epoch 4/10\n",
      "20/20 [==============================] - 4s 212ms/step - loss: 1.6243 - accuracy: 0.5183 - val_loss: 0.7358 - val_accuracy: 0.5032\n",
      "Epoch 5/10\n",
      "20/20 [==============================] - 4s 203ms/step - loss: 1.4893 - accuracy: 0.5278 - val_loss: 0.7094 - val_accuracy: 0.5032\n",
      "Epoch 6/10\n",
      "20/20 [==============================] - 4s 201ms/step - loss: 1.3132 - accuracy: 0.5246 - val_loss: 0.7352 - val_accuracy: 0.5032\n",
      "Epoch 7/10\n",
      "20/20 [==============================] - 4s 204ms/step - loss: 1.2571 - accuracy: 0.5278 - val_loss: 0.7070 - val_accuracy: 0.5032\n",
      "Epoch 8/10\n",
      "20/20 [==============================] - 4s 208ms/step - loss: 1.2207 - accuracy: 0.5326 - val_loss: 0.6951 - val_accuracy: 0.4841\n",
      "Epoch 9/10\n",
      "20/20 [==============================] - 4s 204ms/step - loss: 1.1812 - accuracy: 0.5405 - val_loss: 0.6946 - val_accuracy: 0.4904\n",
      "Epoch 10/10\n",
      "20/20 [==============================] - 4s 203ms/step - loss: 1.1610 - accuracy: 0.5517 - val_loss: 0.6966 - val_accuracy: 0.5032\n"
     ]
    },
    {
     "data": {
      "text/plain": [
       "<tf_keras.src.callbacks.History at 0x786d497a6ce0>"
      ]
     },
     "execution_count": 6,
     "metadata": {},
     "output_type": "execute_result"
    }
   ],
   "source": [
    "backbone = keras_cv.models.DenseNetBackbone.from_preset(\n",
    "    \"densenet201_imagenet\"\n",
    ")\n",
    "model = keras_cv.models.ImageClassifier(\n",
    "    backbone=backbone,\n",
    "    num_classes=1,\n",
    "    activation=\"relu\",\n",
    ")\n",
    "model.compile(\n",
    "    loss=tf.keras.losses.BinaryCrossentropy(),\n",
    "    optimizer=tf.keras.optimizers.Adam(learning_rate=1e-5),\n",
    "    metrics=['accuracy']\n",
    ")\n",
    "model.summary()\n",
    "\n",
    "model.fit(ds_train, validation_data=ds_val, epochs=10)"
   ]
  },
  {
   "cell_type": "code",
   "execution_count": 7,
   "metadata": {
    "execution": {
     "iopub.execute_input": "2024-08-20T03:26:00.756709Z",
     "iopub.status.busy": "2024-08-20T03:26:00.755797Z",
     "iopub.status.idle": "2024-08-20T03:26:01.040944Z",
     "shell.execute_reply": "2024-08-20T03:26:01.040017Z",
     "shell.execute_reply.started": "2024-08-20T03:26:00.756671Z"
    }
   },
   "outputs": [
    {
     "name": "stdout",
     "output_type": "stream",
     "text": [
      "1/1 [==============================] - 12s 12s/step\n",
      "1/1 [==============================] - 0s 29ms/step\n",
      "1/1 [==============================] - 0s 27ms/step\n"
     ]
    },
    {
     "data": {
      "text/html": [
       "<div>\n",
       "<style scoped>\n",
       "    .dataframe tbody tr th:only-of-type {\n",
       "        vertical-align: middle;\n",
       "    }\n",
       "\n",
       "    .dataframe tbody tr th {\n",
       "        vertical-align: top;\n",
       "    }\n",
       "\n",
       "    .dataframe thead th {\n",
       "        text-align: right;\n",
       "    }\n",
       "</style>\n",
       "<table border=\"1\" class=\"dataframe\">\n",
       "  <thead>\n",
       "    <tr style=\"text-align: right;\">\n",
       "      <th></th>\n",
       "      <th>isic_id</th>\n",
       "      <th>target</th>\n",
       "    </tr>\n",
       "  </thead>\n",
       "  <tbody>\n",
       "    <tr>\n",
       "      <th>0</th>\n",
       "      <td>ISIC_0015657</td>\n",
       "      <td>0.457660</td>\n",
       "    </tr>\n",
       "    <tr>\n",
       "      <th>1</th>\n",
       "      <td>ISIC_0015729</td>\n",
       "      <td>0.472336</td>\n",
       "    </tr>\n",
       "    <tr>\n",
       "      <th>2</th>\n",
       "      <td>ISIC_0015740</td>\n",
       "      <td>0.457515</td>\n",
       "    </tr>\n",
       "  </tbody>\n",
       "</table>\n",
       "</div>"
      ],
      "text/plain": [
       "        isic_id    target\n",
       "0  ISIC_0015657  0.457660\n",
       "1  ISIC_0015729  0.472336\n",
       "2  ISIC_0015740  0.457515"
      ]
     },
     "execution_count": 7,
     "metadata": {},
     "output_type": "execute_result"
    }
   ],
   "source": [
    "hdf5_path = \"isic-2024-challenge/test-image.hdf5\"\n",
    "\n",
    "results = []\n",
    "\n",
    "with h5py.File(hdf5_path, 'r') as hf:\n",
    "    for isic_id in hf.keys():\n",
    "        jpeg_string = hf[isic_id][()]\n",
    "        image = tf.io.decode_jpeg(jpeg_string)\n",
    "        image = tf.image.convert_image_dtype(image, tf.float32)\n",
    "        image = tf.image.resize(image,\n",
    "                                [256,256],\n",
    "                                preserve_aspect_ratio=False,\n",
    "                                antialias=False,\n",
    "                                name=None\n",
    "                                )                \n",
    "        target = model.predict(np.array([image]), batch_size=1, steps=1)\n",
    "        results.append([isic_id, target[0][0]])\n",
    "    \n",
    "submission_df = pd.DataFrame(results, columns=[\"isic_id\", \"target\"])\n",
    "submission_df.head()"
   ]
  },
  {
   "cell_type": "code",
   "execution_count": 8,
   "metadata": {
    "execution": {
     "iopub.execute_input": "2024-08-20T03:26:25.961493Z",
     "iopub.status.busy": "2024-08-20T03:26:25.961133Z"
    }
   },
   "outputs": [],
   "source": [
    "submission_df.to_csv(\"submission.csv\", index=False)"
   ]
  },
  {
   "cell_type": "code",
   "execution_count": null,
   "metadata": {},
   "outputs": [],
   "source": []
  }
 ],
 "metadata": {
  "kaggle": {
   "accelerator": "gpu",
   "dataSources": [
    {
     "databundleVersionId": 9094797,
     "sourceId": 63056,
     "sourceType": "competition"
    },
    {
     "modelId": 2796,
     "modelInstanceId": 4592,
     "sourceId": 6080,
     "sourceType": "modelInstanceVersion"
    }
   ],
   "dockerImageVersionId": 30746,
   "isGpuEnabled": true,
   "isInternetEnabled": false,
   "language": "python",
   "sourceType": "notebook"
  },
  "kernelspec": {
   "display_name": "Python 3 (ipykernel)",
   "language": "python",
   "name": "python3"
  },
  "language_info": {
   "codemirror_mode": {
    "name": "ipython",
    "version": 3
   },
   "file_extension": ".py",
   "mimetype": "text/x-python",
   "name": "python",
   "nbconvert_exporter": "python",
   "pygments_lexer": "ipython3",
   "version": "3.10.12"
  }
 },
 "nbformat": 4,
 "nbformat_minor": 4
}
