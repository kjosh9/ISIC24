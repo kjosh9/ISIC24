{
 "cells": [
  {
   "cell_type": "code",
   "execution_count": null,
   "metadata": {
    "_cell_guid": "b1076dfc-b9ad-4769-8c92-a6c4dae69d19",
    "_uuid": "8f2839f25d086af736a60e9eeb907d3b93b6e0e5",
    "execution": {
     "iopub.execute_input": "2024-08-24T18:21:07.087749Z",
     "iopub.status.busy": "2024-08-24T18:21:07.087389Z",
     "iopub.status.idle": "2024-08-24T18:21:08.966331Z",
     "shell.execute_reply": "2024-08-24T18:21:08.963999Z",
     "shell.execute_reply.started": "2024-08-24T18:21:07.087702Z"
    }
   },
   "outputs": [],
   "source": [
    "import tensorflow as tf\n",
    "import pathlib\n",
    "import os\n",
    "import matplotlib.pyplot as plt\n",
    "import pandas as pd\n",
    "import numpy as np\n",
    "import keras_cv\n",
    "import h5py\n",
    "from sklearn.model_selection import train_test_split \n",
    "\n",
    "\n",
    "train_file = \"isic-2024-challenge/train-metadata.csv\"\n",
    "df = pd.read_csv(train_file)"
   ]
  },
  {
   "cell_type": "code",
   "execution_count": null,
   "metadata": {
    "execution": {
     "iopub.status.busy": "2024-08-24T18:21:08.967302Z",
     "iopub.status.idle": "2024-08-24T18:21:08.967843Z"
    }
   },
   "outputs": [],
   "source": [
    "df['isic_id'] = 'isic-2024-challenge/train-image/image/' + df['isic_id'] + '.jpg'\n",
    "df_m = df[df['target'] == 1]\n",
    "df_b = df[df['target'] == 0]\n",
    "\n",
    "print(len(df_m.index))\n",
    "df_b = df_b.sample(len(df_m.index)*20)\n",
    "df_balanced = pd.concat([df_m, df_m, df_m, df_m, df_m, df_m, df_m, df_m, df_m, df_m, df_m, df_m, df_m, df_b], axis=0)\n",
    "\n",
    "df_balanced['target'].value_counts().plot.pie()\n",
    "print(len(df_balanced.index))"
   ]
  },
  {
   "cell_type": "code",
   "execution_count": null,
   "metadata": {
    "execution": {
     "iopub.status.busy": "2024-08-24T18:21:08.972081Z",
     "iopub.status.idle": "2024-08-24T18:21:08.972579Z"
    }
   },
   "outputs": [],
   "source": [
    "train_df, test_df = train_test_split(df_balanced, random_state=2, test_size=0.2) \n",
    "train_df['target'].value_counts().plot.pie()\n",
    "print(len(train_df))"
   ]
  },
  {
   "cell_type": "code",
   "execution_count": null,
   "metadata": {},
   "outputs": [],
   "source": [
    "test_df['target'].value_counts().plot.pie()\n",
    "print(len(test_df))"
   ]
  },
  {
   "cell_type": "code",
   "execution_count": null,
   "metadata": {
    "execution": {
     "iopub.status.busy": "2024-08-24T18:21:08.974093Z",
     "iopub.status.idle": "2024-08-24T18:21:08.974585Z"
    }
   },
   "outputs": [],
   "source": [
    "\n",
    "def process_data(dft):\n",
    "    img_filenames = dft['isic_id']\n",
    "    labels = dft['target']\n",
    "\n",
    "    ds = tf.data.Dataset.from_tensor_slices((img_filenames, labels))\n",
    "\n",
    "    def parse_image(filename, label):\n",
    "        print(filename)   \n",
    "        image = tf.io.read_file(filename)\n",
    "        image = tf.io.decode_jpeg(image)\n",
    "        img_shape = image.shape\n",
    "        print(\"Shape is: \", img_shape)\n",
    "        image = tf.image.convert_image_dtype(image, tf.float32)\n",
    "        image = tf.image.resize(image,\n",
    "                                [256,256],\n",
    "                                preserve_aspect_ratio=False,\n",
    "                                antialias=False,\n",
    "                                name=None\n",
    "                                )\n",
    "        image = tf.image.random_flip_left_right(image)\n",
    "        image = tf.image.random_flip_up_down(image)\n",
    "        image = tf.image.random_jpeg_quality(image, 75, 95)\n",
    "        image = tf.image.random_brightness(image, 0.22)\n",
    "        image = tf.image.random_contrast(image, 0.5, 2.0)\n",
    "        image = tf.image.random_saturation(image, 0.75, 1.25)\n",
    "        image = tf.image.random_hue(image, 0.15)\n",
    "        return image, label\n",
    "    \n",
    "    ds = ds.map(parse_image)\n",
    "    \n",
    "    return ds\n"
   ]
  },
  {
   "cell_type": "code",
   "execution_count": null,
   "metadata": {
    "execution": {
     "iopub.status.busy": "2024-08-24T18:21:08.975729Z",
     "iopub.status.idle": "2024-08-24T18:21:08.976234Z"
    }
   },
   "outputs": [],
   "source": [
    "ds_train = process_data(train_df)\n",
    "ds_val = process_data(test_df)\n",
    "\n",
    "del(train_df)\n",
    "del(test_df)\n",
    "\n",
    "image, label  = next(iter(ds_train))\n",
    "\n",
    "ds_train = ds_train.batch(8)\n",
    "ds_val = ds_val.batch(8)"
   ]
  },
  {
   "cell_type": "code",
   "execution_count": null,
   "metadata": {
    "execution": {
     "iopub.status.busy": "2024-08-24T18:21:08.977193Z",
     "iopub.status.idle": "2024-08-24T18:21:08.977647Z"
    }
   },
   "outputs": [],
   "source": [
    "backbone = keras_cv.models.EfficientNetV2Backbone.from_preset(\n",
    "        \"efficientnetv2_b2_imagenet\"\n",
    ")\n",
    "model = keras_cv.models.ImageClassifier(\n",
    "    backbone=backbone,\n",
    "    num_classes=1,\n",
    "    activation=\"swish\",\n",
    ")\n",
    "model.compile(\n",
    "    loss=tf.keras.losses.BinaryCrossentropy(),\n",
    "    optimizer=tf.keras.optimizers.Adam(learning_rate=1e-5),\n",
    "    metrics=['accuracy']\n",
    ")\n",
    "model.summary()\n",
    "\n",
    "cb = tf.keras.callbacks.EarlyStopping(\n",
    "    monitor='val_loss',\n",
    "    min_delta=0,\n",
    "    patience=5,\n",
    "    start_from_epoch=20\n",
    ")\n",
    "\n",
    "\n",
    "model.fit(ds_train, validation_data=ds_val, epochs=50, callbacks=[cb])"
   ]
  },
  {
   "cell_type": "code",
   "execution_count": null,
   "metadata": {
    "execution": {
     "iopub.status.busy": "2024-08-24T18:21:08.978711Z",
     "iopub.status.idle": "2024-08-24T18:21:08.979204Z"
    }
   },
   "outputs": [],
   "source": [
    "del (ds_train)\n",
    "del (ds_val)\n",
    "\n",
    "hdf5_path = \"isic-2024-challenge/test-image.hdf5\"\n",
    "\n",
    "class data_generator:\n",
    "    def __init__(self, file):\n",
    "        self.file = file\n",
    "\n",
    "    def __call__(self):\n",
    "        with h5py.File(self.file, 'r') as hf:\n",
    "            for im in hf.keys():\n",
    "                image = tf.io.decode_jpeg(hf[im][()])\n",
    "                image = tf.image.convert_image_dtype(image, tf.float32)\n",
    "                image = tf.image.resize(image,\n",
    "                                [256,256],\n",
    "                                preserve_aspect_ratio=False,\n",
    "                                antialias=False,\n",
    "                                name=None\n",
    "                                )\n",
    "                yield image\n",
    "\n",
    "with h5py.File(hdf5_path, 'r') as hf:\n",
    "    isic_ids = list(hf.keys())\n",
    "\n",
    "ds = tf.data.Dataset.from_generator(\n",
    "    data_generator(hdf5_path), \n",
    "    tf.float32, \n",
    "    tf.TensorShape([256,256,3]))\n",
    "    \n",
    "ds = ds.batch(32)\n",
    "\n",
    "targets = model.predict(ds)\n",
    "    \n",
    "submission_df = pd.DataFrame({\"isic_id\": isic_ids, \"target\": targets.flatten()})\n",
    "#submission_df.head()\n",
    "submission_df.to_csv(\"submission.csv\", index=False)"
   ]
  },
  {
   "cell_type": "code",
   "execution_count": null,
   "metadata": {},
   "outputs": [],
   "source": []
  }
 ],
 "metadata": {
  "kaggle": {
   "accelerator": "gpu",
   "dataSources": [
    {
     "databundleVersionId": 9094797,
     "sourceId": 63056,
     "sourceType": "competition"
    },
    {
     "modelId": 2796,
     "modelInstanceId": 4592,
     "sourceId": 6080,
     "sourceType": "modelInstanceVersion"
    },
    {
     "modelId": 2797,
     "modelInstanceId": 4599,
     "sourceId": 6124,
     "sourceType": "modelInstanceVersion"
    },
    {
     "modelId": 2797,
     "modelInstanceId": 4596,
     "sourceId": 6125,
     "sourceType": "modelInstanceVersion"
    },
    {
     "modelId": 2797,
     "modelInstanceId": 4597,
     "sourceId": 6126,
     "sourceType": "modelInstanceVersion"
    },
    {
     "modelId": 2797,
     "modelInstanceId": 4598,
     "sourceId": 6127,
     "sourceType": "modelInstanceVersion"
    }
   ],
   "dockerImageVersionId": 30746,
   "isGpuEnabled": true,
   "isInternetEnabled": false,
   "language": "python",
   "sourceType": "notebook"
  },
  "kernelspec": {
   "display_name": "Python 3 (ipykernel)",
   "language": "python",
   "name": "python3"
  },
  "language_info": {
   "codemirror_mode": {
    "name": "ipython",
    "version": 3
   },
   "file_extension": ".py",
   "mimetype": "text/x-python",
   "name": "python",
   "nbconvert_exporter": "python",
   "pygments_lexer": "ipython3",
   "version": "3.10.12"
  }
 },
 "nbformat": 4,
 "nbformat_minor": 4
}
